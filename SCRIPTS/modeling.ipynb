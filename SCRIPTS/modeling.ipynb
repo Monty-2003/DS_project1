{
  "nbformat": 4,
  "nbformat_minor": 0,
  "metadata": {
    "colab": {
      "provenance": [],
      "authorship_tag": "ABX9TyM/vJYA5EAET95956+EYlLS",
      "include_colab_link": true
    },
    "kernelspec": {
      "name": "python3",
      "display_name": "Python 3"
    },
    "language_info": {
      "name": "python"
    }
  },
  "cells": [
    {
      "cell_type": "markdown",
      "metadata": {
        "id": "view-in-github",
        "colab_type": "text"
      },
      "source": [
        "<a href=\"https://colab.research.google.com/github/Monty-2003/DS_project1/blob/main/modeling.ipynb\" target=\"_parent\"><img src=\"https://colab.research.google.com/assets/colab-badge.svg\" alt=\"Open In Colab\"/></a>"
      ]
    },
    {
      "cell_type": "code",
      "execution_count": null,
      "metadata": {
        "id": "bdLbUSdmqG1J"
      },
      "outputs": [],
      "source": [
        "import numpy as np\n",
        "import seaborn as sns\n",
        "import matplotlib\n",
        "import matplotlib.pyplot as plt\n",
        "import sklearn\n",
        "import pandas as pd\n",
        "\n",
        "from google.colab import drive\n",
        "drive.mount('/content/drive')\n",
        "\n",
        "def loadBookData():\n",
        "  # The column names are adopted from the dataset page on Kaggle\n",
        "  books = pd.read_csv('/content/drive/MyDrive/DS Project Course/Project1/books_cleaned.csv')\n",
        "  return books\n",
        "\n",
        "def loadReviewsData():\n",
        "  # The column names are adopted from the dataset page on Kaggle\n",
        "  reviews = pd.read_csv('/content/drive/MyDrive/DS Project Course/Project1/reviews_cleaned.csv')\n",
        "  return reviews\n",
        "\n",
        "loadBookData()\n",
        "loadReviewsData()"
      ]
    }
  ]
}